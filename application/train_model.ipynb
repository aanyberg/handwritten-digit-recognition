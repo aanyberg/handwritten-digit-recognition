{
 "cells": [
  {
   "cell_type": "code",
   "execution_count": 1,
   "outputs": [],
   "source": [
    "import tensorflow as tf\n",
    "import matplotlib.pyplot as plt\n",
    "import numpy as np"
   ],
   "metadata": {
    "collapsed": false,
    "pycharm": {
     "name": "#%%\n"
    }
   }
  },
  {
   "cell_type": "code",
   "execution_count": 2,
   "outputs": [],
   "source": [
    "# Get data and preprocess\n",
    "mnist = tf.keras.datasets.mnist\n",
    "(X_train, y_train), (X_test, y_test) = mnist.load_data()\n"
   ],
   "metadata": {
    "collapsed": false,
    "pycharm": {
     "name": "#%%\n"
    }
   }
  },
  {
   "cell_type": "code",
   "execution_count": 76,
   "outputs": [],
   "source": [
    "def plot_input_img(i):\n",
    "\tplt.imshow(X_train[i], cmap='binary')\n",
    "\tplt.title(y_train[i])\n",
    "\tplt.show()"
   ],
   "metadata": {
    "collapsed": false,
    "pycharm": {
     "name": "#%%\n"
    }
   }
  },
  {
   "cell_type": "code",
   "execution_count": 77,
   "outputs": [
    {
     "data": {
      "text/plain": "<Figure size 432x288 with 1 Axes>",
      "image/png": "[encoded data removed]"
     },
     "metadata": {
      "needs_background": "light"
     },
     "output_type": "display_data"
    },
    {
     "data": {
      "text/plain": "<Figure size 432x288 with 1 Axes>",
      "image/png": "[encoded data removed]"
     },
     "metadata": {
      "needs_background": "light"
     },
     "output_type": "display_data"
    }
   ],
   "source": [
    "for i in range(2):\n",
    "\tplot_input_img(i)"
   ],
   "metadata": {
    "collapsed": false,
    "pycharm": {
     "name": "#%%\n"
    }
   }
  },
  {
   "cell_type": "code",
   "execution_count": 3,
   "outputs": [],
   "source": [
    "# Pre process images\n",
    "X_train = X_train.astype(np.float32)/255\n",
    "X_test = X_test.astype(np.float32)/255\n",
    "\n",
    "# Expand dimensions\n",
    "X_train = np.expand_dims(X_train, -1)\n",
    "X_test = np.expand_dims(X_test, -1)\n",
    "\n",
    "y_train = tf.keras.utils.to_categorical(y_train)\n",
    "y_test = tf.keras.utils.to_categorical(y_test)\n"
   ],
   "metadata": {
    "collapsed": false,
    "pycharm": {
     "name": "#%%\n"
    }
   }
  },
  {
   "cell_type": "code",
   "execution_count": 4,
   "outputs": [
    {
     "name": "stdout",
     "output_type": "stream",
     "text": [
      "(60000, 28, 28, 1)\n",
      "(10000, 28, 28, 1)\n"
     ]
    }
   ],
   "source": [
    "print(X_train.shape)\n",
    "print(X_test.shape)"
   ],
   "metadata": {
    "collapsed": false,
    "pycharm": {
     "name": "#%%\n"
    }
   }
  },
  {
   "cell_type": "code",
   "execution_count": 5,
   "outputs": [],
   "source": [
    "def create_models():\n",
    "\tmodels = tf.keras.models.Sequential([\n",
    "\t\ttf.keras.layers.Conv2D(32, (3, 3), input_shape=(28, 28, 1), activation='relu'),\n",
    "\t\ttf.keras.layers.MaxPool2D((2, 2)),\n",
    "\t\ttf.keras.layers.Conv2D(64, (3, 3), activation='relu'),\n",
    "\t\ttf.keras.layers.MaxPool2D((2, 2)),\n",
    "\t\ttf.keras.layers.Flatten(),\n",
    "\t\ttf.keras.layers.Dropout(0.25),\n",
    "\t\ttf.keras.layers.Dense(10, activation='softmax')\n",
    "\t])\n",
    "\n",
    "\tmodels.compile(optimizer='adam',\n",
    "\t\tloss=tf.keras.losses.categorical_crossentropy,\n",
    "\t\tmetrics=['accuracy']\n",
    "\t)\n",
    "\n",
    "\treturn models"
   ],
   "metadata": {
    "collapsed": false,
    "pycharm": {
     "name": "#%%\n"
    }
   }
  },
  {
   "cell_type": "code",
   "execution_count": 6,
   "outputs": [
    {
     "name": "stderr",
     "output_type": "stream",
     "text": [
      "2022-05-25 13:46:21.523201: I tensorflow/core/platform/cpu_feature_guard.cc:151] This TensorFlow binary is optimized with oneAPI Deep Neural Network Library (oneDNN) to use the following CPU instructions in performance-critical operations:  AVX2 FMA\n",
      "To enable them in other operations, rebuild TensorFlow with the appropriate compiler flags.\n"
     ]
    }
   ],
   "source": [
    "model = create_models()"
   ],
   "metadata": {
    "collapsed": false,
    "pycharm": {
     "name": "#%%\n"
    }
   }
  },
  {
   "cell_type": "code",
   "execution_count": 7,
   "outputs": [],
   "source": [
    "es = tf.keras.callbacks.EarlyStopping(monitor='val_acc', min_delta=0.01, patience=4, verbose=1)\n",
    "mc = tf.keras.callbacks.ModelCheckpoint('./model.h5', monitor='val_acc', verbose=1, save_best_only=True)\n",
    "\n",
    "cb = [es, mc]"
   ],
   "metadata": {
    "collapsed": false,
    "pycharm": {
     "name": "#%%\n"
    }
   }
  },
  {
   "cell_type": "code",
   "execution_count": 8,
   "outputs": [
    {
     "name": "stdout",
     "output_type": "stream",
     "text": [
      "Epoch 1/10\n",
      "1313/1313 [==============================] - 27s 19ms/step - loss: 0.2158 - accuracy: 0.9346 - val_loss: 0.0735 - val_accuracy: 0.9783\n",
      "Epoch 2/10\n",
      "1313/1313 [==============================] - 25s 19ms/step - loss: 0.0712 - accuracy: 0.9780 - val_loss: 0.0558 - val_accuracy: 0.9832\n",
      "Epoch 3/10\n",
      "1313/1313 [==============================] - 25s 19ms/step - loss: 0.0534 - accuracy: 0.9832 - val_loss: 0.0481 - val_accuracy: 0.9849\n",
      "Epoch 4/10\n",
      "1313/1313 [==============================] - 25s 19ms/step - loss: 0.0430 - accuracy: 0.9865 - val_loss: 0.0423 - val_accuracy: 0.9871\n",
      "Epoch 5/10\n",
      "1313/1313 [==============================] - 25s 19ms/step - loss: 0.0355 - accuracy: 0.9888 - val_loss: 0.0421 - val_accuracy: 0.9868\n",
      "Epoch 6/10\n",
      "1313/1313 [==============================] - 26s 20ms/step - loss: 0.0311 - accuracy: 0.9899 - val_loss: 0.0452 - val_accuracy: 0.9870\n",
      "Epoch 7/10\n",
      "1313/1313 [==============================] - 26s 20ms/step - loss: 0.0275 - accuracy: 0.9906 - val_loss: 0.0412 - val_accuracy: 0.9886\n",
      "Epoch 8/10\n",
      "1313/1313 [==============================] - 25s 19ms/step - loss: 0.0245 - accuracy: 0.9918 - val_loss: 0.0389 - val_accuracy: 0.9888\n",
      "Epoch 9/10\n",
      "1313/1313 [==============================] - 26s 20ms/step - loss: 0.0213 - accuracy: 0.9929 - val_loss: 0.0341 - val_accuracy: 0.9902\n",
      "Epoch 10/10\n",
      "1313/1313 [==============================] - 25s 19ms/step - loss: 0.0199 - accuracy: 0.9935 - val_loss: 0.0392 - val_accuracy: 0.9886\n",
      "313/313 [==============================] - 1s 4ms/step - loss: 0.0303 - accuracy: 0.9900\n",
      "Loss was: 3.029921278357506 %\n",
      "Accuracy was: 99.00000095367432 %\n"
     ]
    }
   ],
   "source": [
    "his = model.fit(X_train, y_train, epochs=10, validation_split=0.3, batch_size=32)\n",
    "loss, accuracy = model.evaluate(X_test, y_test)\n",
    "print(f'Loss was: {loss*100} %')\n",
    "print(f'Accuracy was: {accuracy*100} %')"
   ],
   "metadata": {
    "collapsed": false,
    "pycharm": {
     "name": "#%%\n"
    }
   }
  },
  {
   "cell_type": "code",
   "execution_count": 9,
   "outputs": [],
   "source": [
    "model.save('./model.h5')"
   ],
   "metadata": {
    "collapsed": false,
    "pycharm": {
     "name": "#%%\n"
    }
   }
  },
  {
   "cell_type": "code",
   "execution_count": null,
   "outputs": [],
   "source": [],
   "metadata": {
    "collapsed": false,
    "pycharm": {
     "name": "#%%\n"
    }
   }
  }
 ],
 "metadata": {
  "kernelspec": {
   "display_name": "Python 3",
   "language": "python",
   "name": "python3"
  },
  "language_info": {
   "codemirror_mode": {
    "name": "ipython",
    "version": 2
   },
   "file_extension": ".py",
   "mimetype": "text/x-python",
   "name": "python",
   "nbconvert_exporter": "python",
   "pygments_lexer": "ipython2",
   "version": "2.7.6"
  }
 },
 "nbformat": 4,
 "nbformat_minor": 0
}